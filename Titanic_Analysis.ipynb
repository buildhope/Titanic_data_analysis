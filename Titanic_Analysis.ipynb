{
 "cells": [
  {
   "cell_type": "markdown",
   "metadata": {},
   "source": [
    "# Titanic data Analysis\n",
    "\n",
    "Data for this analysis has been sourced from [kaggle](https://www.udacity.com/api/nodes/6833898752/supplemental_media/titanic-datacsv/download).\n",
    "\n",
    "Description of the data is available [here](https://www.kaggle.com/c/titanic/data).\n",
    "\n",
    "In brief it is data collected from survivors on Titanic. It includes information such as sex, age, ticket class, name etc."
   ]
  },
  {
   "cell_type": "markdown",
   "metadata": {},
   "source": [
    "# Getting to know the data\n",
    "Read data in to pandas Dataframe and print few rows to understand the data.\n",
    "Below code enables us to investigate the raw data."
   ]
  },
  {
   "cell_type": "code",
   "execution_count": 183,
   "metadata": {
    "collapsed": false
   },
   "outputs": [
    {
     "name": "stdout",
     "output_type": "stream",
     "text": [
      "Populating the interactive namespace from numpy and matplotlib\n"
     ]
    },
    {
     "data": {
      "text/markdown": [
       "Rows,Columns"
      ],
      "text/plain": [
       "<IPython.core.display.Markdown object>"
      ]
     },
     "metadata": {},
     "output_type": "display_data"
    },
    {
     "name": "stdout",
     "output_type": "stream",
     "text": [
      "(891, 12)\n",
      "\n"
     ]
    },
    {
     "data": {
      "text/markdown": [
       "Few rows from the top of the source file"
      ],
      "text/plain": [
       "<IPython.core.display.Markdown object>"
      ]
     },
     "metadata": {},
     "output_type": "display_data"
    },
    {
     "name": "stdout",
     "output_type": "stream",
     "text": [
      "   PassengerId  Survived  Pclass  \\\n",
      "0            1         0       3   \n",
      "1            2         1       1   \n",
      "2            3         1       3   \n",
      "3            4         1       1   \n",
      "4            5         0       3   \n",
      "\n",
      "                                                Name     Sex   Age  SibSp  \\\n",
      "0                            Braund, Mr. Owen Harris    male  22.0      1   \n",
      "1  Cumings, Mrs. John Bradley (Florence Briggs Th...  female  38.0      1   \n",
      "2                             Heikkinen, Miss. Laina  female  26.0      0   \n",
      "3       Futrelle, Mrs. Jacques Heath (Lily May Peel)  female  35.0      1   \n",
      "4                           Allen, Mr. William Henry    male  35.0      0   \n",
      "\n",
      "   Parch            Ticket     Fare Cabin Embarked  \n",
      "0      0         A/5 21171   7.2500   NaN        S  \n",
      "1      0          PC 17599  71.2833   C85        C  \n",
      "2      0  STON/O2. 3101282   7.9250   NaN        S  \n",
      "3      0            113803  53.1000  C123        S  \n",
      "4      0            373450   8.0500   NaN        S  \n",
      "\n"
     ]
    },
    {
     "data": {
      "text/markdown": [
       "Info on each column"
      ],
      "text/plain": [
       "<IPython.core.display.Markdown object>"
      ]
     },
     "metadata": {},
     "output_type": "display_data"
    },
    {
     "name": "stdout",
     "output_type": "stream",
     "text": [
      "PassengerId      int64\n",
      "Survived         int64\n",
      "Pclass           int64\n",
      "Name            object\n",
      "Sex             object\n",
      "Age            float64\n",
      "SibSp            int64\n",
      "Parch            int64\n",
      "Ticket          object\n",
      "Fare           float64\n",
      "Cabin           object\n",
      "Embarked        object\n",
      "dtype: object\n",
      "\n"
     ]
    },
    {
     "data": {
      "text/markdown": [
       "More info on each column"
      ],
      "text/plain": [
       "<IPython.core.display.Markdown object>"
      ]
     },
     "metadata": {},
     "output_type": "display_data"
    },
    {
     "name": "stdout",
     "output_type": "stream",
     "text": [
      "<class 'pandas.core.frame.DataFrame'>\n",
      "RangeIndex: 891 entries, 0 to 890\n",
      "Data columns (total 12 columns):\n",
      "PassengerId    891 non-null int64\n",
      "Survived       891 non-null int64\n",
      "Pclass         891 non-null int64\n",
      "Name           891 non-null object\n",
      "Sex            891 non-null object\n",
      "Age            714 non-null float64\n",
      "SibSp          891 non-null int64\n",
      "Parch          891 non-null int64\n",
      "Ticket         891 non-null object\n",
      "Fare           891 non-null float64\n",
      "Cabin          204 non-null object\n",
      "Embarked       889 non-null object\n",
      "dtypes: float64(2), int64(5), object(5)\n",
      "memory usage: 83.6+ KB\n",
      "None\n"
     ]
    }
   ],
   "source": [
    "%pylab inline\n",
    "%matplotlib inline\n",
    "import pandas as pd\n",
    "import numpy as np\n",
    "import matplotlib.pyplot as plt\n",
    "import seaborn as sns\n",
    "from IPython.display import Markdown, display\n",
    "import scipy as sp\n",
    "\n",
    "def printmd(string):\n",
    "    display(Markdown(string))\n",
    "\n",
    "\n",
    "# Read source data in a dataframe\n",
    "\n",
    "titanic_raw_df = pd.read_csv('titanic_data.csv')\n",
    "\n",
    "printmd(\"Rows,Columns\")\n",
    "print titanic_raw_df.shape\n",
    "print\n",
    "printmd(\"Few rows from the top of the source file\")\n",
    "print titanic_raw_df.head()\n",
    "print\n",
    "printmd(\"Info on each column\")\n",
    "print titanic_raw_df.dtypes\n",
    "print\n",
    "printmd(\"More info on each column\")\n",
    "print titanic_raw_df.info()"
   ]
  },
  {
   "cell_type": "markdown",
   "metadata": {},
   "source": [
    "# Raise questions based on above data\n",
    "Seems like we have data showing who survived and who did not. We also have their age, ticket class, sex etc.\n",
    "\n",
    "From this we can find a corelation between survival and age/sex/class.\n",
    "\n",
    "# Check data further to find any anomalies and cleanup (Data Wrangling)\n"
   ]
  },
  {
   "cell_type": "code",
   "execution_count": 187,
   "metadata": {
    "collapsed": false
   },
   "outputs": [
    {
     "data": {
      "text/markdown": [
       "Count of each column"
      ],
      "text/plain": [
       "<IPython.core.display.Markdown object>"
      ]
     },
     "metadata": {},
     "output_type": "display_data"
    },
    {
     "name": "stdout",
     "output_type": "stream",
     "text": [
      "PassengerId    891\n",
      "Survived       891\n",
      "Pclass         891\n",
      "Name           891\n",
      "Sex            891\n",
      "Age            714\n",
      "SibSp          891\n",
      "Parch          891\n",
      "Ticket         891\n",
      "Fare           891\n",
      "Cabin          204\n",
      "Embarked       889\n",
      "dtype: int64\n",
      "\n"
     ]
    },
    {
     "data": {
      "text/markdown": [
       "Unique values from Survived column"
      ],
      "text/plain": [
       "<IPython.core.display.Markdown object>"
      ]
     },
     "metadata": {},
     "output_type": "display_data"
    },
    {
     "name": "stdout",
     "output_type": "stream",
     "text": [
      "[0 1]\n",
      "\n",
      "\n"
     ]
    },
    {
     "data": {
      "text/markdown": [
       "Unique values from Pclass column"
      ],
      "text/plain": [
       "<IPython.core.display.Markdown object>"
      ]
     },
     "metadata": {},
     "output_type": "display_data"
    },
    {
     "name": "stdout",
     "output_type": "stream",
     "text": [
      "[3 1 2]\n",
      "\n",
      "\n"
     ]
    },
    {
     "data": {
      "text/markdown": [
       "Unique values from Sex column"
      ],
      "text/plain": [
       "<IPython.core.display.Markdown object>"
      ]
     },
     "metadata": {},
     "output_type": "display_data"
    },
    {
     "name": "stdout",
     "output_type": "stream",
     "text": [
      "['male' 'female']\n",
      "\n",
      "\n"
     ]
    },
    {
     "data": {
      "text/markdown": [
       "Unique values from SibSp column"
      ],
      "text/plain": [
       "<IPython.core.display.Markdown object>"
      ]
     },
     "metadata": {},
     "output_type": "display_data"
    },
    {
     "name": "stdout",
     "output_type": "stream",
     "text": [
      "[1 0 3 4 2 5 8]\n",
      "\n",
      "\n"
     ]
    },
    {
     "data": {
      "text/markdown": [
       "Unique values from Parch column"
      ],
      "text/plain": [
       "<IPython.core.display.Markdown object>"
      ]
     },
     "metadata": {},
     "output_type": "display_data"
    },
    {
     "name": "stdout",
     "output_type": "stream",
     "text": [
      "[0 1 2 5 3 4 6]\n",
      "\n",
      "\n"
     ]
    },
    {
     "data": {
      "text/markdown": [
       "Unique values from Cabin column"
      ],
      "text/plain": [
       "<IPython.core.display.Markdown object>"
      ]
     },
     "metadata": {},
     "output_type": "display_data"
    },
    {
     "name": "stdout",
     "output_type": "stream",
     "text": [
      "[nan 'C85' 'C123' 'E46' 'G6' 'C103' 'D56' 'A6' 'C23 C25 C27' 'B78' 'D33'\n",
      " 'B30' 'C52' 'B28' 'C83' 'F33' 'F G73' 'E31' 'A5' 'D10 D12' 'D26' 'C110'\n",
      " 'B58 B60' 'E101' 'F E69' 'D47' 'B86' 'F2' 'C2' 'E33' 'B19' 'A7' 'C49' 'F4'\n",
      " 'A32' 'B4' 'B80' 'A31' 'D36' 'D15' 'C93' 'C78' 'D35' 'C87' 'B77' 'E67'\n",
      " 'B94' 'C125' 'C99' 'C118' 'D7' 'A19' 'B49' 'D' 'C22 C26' 'C106' 'C65'\n",
      " 'E36' 'C54' 'B57 B59 B63 B66' 'C7' 'E34' 'C32' 'B18' 'C124' 'C91' 'E40'\n",
      " 'T' 'C128' 'D37' 'B35' 'E50' 'C82' 'B96 B98' 'E10' 'E44' 'A34' 'C104'\n",
      " 'C111' 'C92' 'E38' 'D21' 'E12' 'E63' 'A14' 'B37' 'C30' 'D20' 'B79' 'E25'\n",
      " 'D46' 'B73' 'C95' 'B38' 'B39' 'B22' 'C86' 'C70' 'A16' 'C101' 'C68' 'A10'\n",
      " 'E68' 'B41' 'A20' 'D19' 'D50' 'D9' 'A23' 'B50' 'A26' 'D48' 'E58' 'C126'\n",
      " 'B71' 'B51 B53 B55' 'D49' 'B5' 'B20' 'F G63' 'C62 C64' 'E24' 'C90' 'C45'\n",
      " 'E8' 'B101' 'D45' 'C46' 'D30' 'E121' 'D11' 'E77' 'F38' 'B3' 'D6' 'B82 B84'\n",
      " 'D17' 'A36' 'B102' 'B69' 'E49' 'C47' 'D28' 'E17' 'A24' 'C50' 'B42' 'C148']\n",
      "\n",
      "\n"
     ]
    },
    {
     "data": {
      "text/markdown": [
       "Unique values from Embarked column"
      ],
      "text/plain": [
       "<IPython.core.display.Markdown object>"
      ]
     },
     "metadata": {},
     "output_type": "display_data"
    },
    {
     "name": "stdout",
     "output_type": "stream",
     "text": [
      "['S' 'C' 'Q' nan]\n",
      "\n",
      "\n",
      "\n"
     ]
    },
    {
     "data": {
      "text/markdown": [
       "Common STATS for numeric columns"
      ],
      "text/plain": [
       "<IPython.core.display.Markdown object>"
      ]
     },
     "metadata": {},
     "output_type": "display_data"
    },
    {
     "name": "stdout",
     "output_type": "stream",
     "text": [
      "       PassengerId    Survived      Pclass         Age       SibSp  \\\n",
      "count   891.000000  891.000000  891.000000  714.000000  891.000000   \n",
      "mean    446.000000    0.383838    2.308642   29.699118    0.523008   \n",
      "std     257.353842    0.486592    0.836071   14.526497    1.102743   \n",
      "min       1.000000    0.000000    1.000000    0.420000    0.000000   \n",
      "25%     223.500000    0.000000    2.000000         NaN    0.000000   \n",
      "50%     446.000000    0.000000    3.000000         NaN    0.000000   \n",
      "75%     668.500000    1.000000    3.000000         NaN    1.000000   \n",
      "max     891.000000    1.000000    3.000000   80.000000    8.000000   \n",
      "\n",
      "            Parch        Fare  \n",
      "count  891.000000  891.000000  \n",
      "mean     0.381594   32.204208  \n",
      "std      0.806057   49.693429  \n",
      "min      0.000000    0.000000  \n",
      "25%      0.000000    7.910400  \n",
      "50%      0.000000   14.454200  \n",
      "75%      0.000000   31.000000  \n",
      "max      6.000000  512.329200  \n",
      "\n"
     ]
    },
    {
     "data": {
      "text/markdown": [
       "Data type of Age column"
      ],
      "text/plain": [
       "<IPython.core.display.Markdown object>"
      ]
     },
     "metadata": {},
     "output_type": "display_data"
    },
    {
     "name": "stdout",
     "output_type": "stream",
     "text": [
      "float64\n"
     ]
    }
   ],
   "source": [
    "printmd(\"Count of each column\")\n",
    "print titanic_raw_df.count()\n",
    "print \n",
    "\n",
    "def unique_values(data,field):\n",
    "    printmd('Unique values from {} column'.format(field))\n",
    "    print data[field].unique()\n",
    "    print \"\\n\"\n",
    "unique_values(titanic_raw_df,'Survived')\n",
    "unique_values(titanic_raw_df,'Pclass')\n",
    "unique_values(titanic_raw_df,'Sex')\n",
    "unique_values(titanic_raw_df,'SibSp')\n",
    "unique_values(titanic_raw_df,'Parch')\n",
    "unique_values(titanic_raw_df,'Cabin')\n",
    "unique_values(titanic_raw_df,'Embarked')\n",
    "\n",
    "print\n",
    "printmd('Common STATS for numeric columns')\n",
    "print titanic_raw_df.describe()\n",
    "print\n",
    "printmd('Data type of Age column')\n",
    "print titanic_raw_df.Age.dtype"
   ]
  },
  {
   "cell_type": "markdown",
   "metadata": {},
   "source": [
    "Count of columns above show that Age value is available only for 714 passengers out of 891 so if analysing based on Age it would be best to only use those 714 records for analysis.\n",
    "Same applies to other variables that dont have values for all passengers such as Embarked column."
   ]
  },
  {
   "cell_type": "code",
   "execution_count": 231,
   "metadata": {
    "collapsed": false
   },
   "outputs": [
    {
     "name": "stdout",
     "output_type": "stream",
     "text": [
      "     PassengerId  Survived  Pclass                                       Name  \\\n",
      "61            62         1       1                        Icard, Miss. Amelie   \n",
      "829          830         1       1  Stone, Mrs. George Nelson (Martha Evelyn)   \n",
      "\n",
      "        Sex   Age  SibSp  Parch  Ticket  Fare Cabin Embarked  \n",
      "61   female  38.0      0      0  113572  80.0   B28      NaN  \n",
      "829  female  62.0      0      0  113572  80.0   B28      NaN  \n"
     ]
    }
   ],
   "source": [
    "# Check rows where the Emarked field is null\n",
    "\n",
    "print titanic_raw_df[titanic_raw_df['Embarked'].isnull()]"
   ]
  },
  {
   "cell_type": "code",
   "execution_count": 236,
   "metadata": {
    "collapsed": false
   },
   "outputs": [
    {
     "data": {
      "text/markdown": [
       "Common STATS for dataset restricted to passengers who have age value"
      ],
      "text/plain": [
       "<IPython.core.display.Markdown object>"
      ]
     },
     "metadata": {},
     "output_type": "display_data"
    },
    {
     "name": "stdout",
     "output_type": "stream",
     "text": [
      "       PassengerId    Survived      Pclass         Age       SibSp  \\\n",
      "count   714.000000  714.000000  714.000000  714.000000  714.000000   \n",
      "mean    448.582633    0.406162    2.236695   29.699118    0.512605   \n",
      "std     259.119524    0.491460    0.838250   14.526497    0.929783   \n",
      "min       1.000000    0.000000    1.000000    0.420000    0.000000   \n",
      "25%     222.250000    0.000000    1.000000   20.125000    0.000000   \n",
      "50%     445.000000    0.000000    2.000000   28.000000    0.000000   \n",
      "75%     677.750000    1.000000    3.000000   38.000000    1.000000   \n",
      "max     891.000000    1.000000    3.000000   80.000000    5.000000   \n",
      "\n",
      "            Parch        Fare  \n",
      "count  714.000000  714.000000  \n",
      "mean     0.431373   34.694514  \n",
      "std      0.853289   52.918930  \n",
      "min      0.000000    0.000000  \n",
      "25%      0.000000    8.050000  \n",
      "50%      0.000000   15.741700  \n",
      "75%      1.000000   33.375000  \n",
      "max      6.000000  512.329200  \n",
      "\n"
     ]
    },
    {
     "data": {
      "text/markdown": [
       "Check Age_Class column"
      ],
      "text/plain": [
       "<IPython.core.display.Markdown object>"
      ]
     },
     "metadata": {},
     "output_type": "display_data"
    },
    {
     "name": "stdout",
     "output_type": "stream",
     "text": [
      "   PassengerId  Survived  Pclass  \\\n",
      "0            1         0       3   \n",
      "1            2         1       1   \n",
      "2            3         1       3   \n",
      "3            4         1       1   \n",
      "4            5         0       3   \n",
      "\n",
      "                                                Name     Sex   Age  SibSp  \\\n",
      "0                            Braund, Mr. Owen Harris    male  22.0      1   \n",
      "1  Cumings, Mrs. John Bradley (Florence Briggs Th...  female  38.0      1   \n",
      "2                             Heikkinen, Miss. Laina  female  26.0      0   \n",
      "3       Futrelle, Mrs. Jacques Heath (Lily May Peel)  female  35.0      1   \n",
      "4                           Allen, Mr. William Henry    male  35.0      0   \n",
      "\n",
      "   Parch            Ticket     Fare Cabin Embarked Age_Class  \n",
      "0      0         A/5 21171   7.2500   NaN        S     21-30  \n",
      "1      0          PC 17599  71.2833   C85        C     31-40  \n",
      "2      0  STON/O2. 3101282   7.9250   NaN        S     21-30  \n",
      "3      0            113803  53.1000  C123        S     31-40  \n",
      "4      0            373450   8.0500   NaN        S     31-40  \n",
      "\n"
     ]
    },
    {
     "data": {
      "text/markdown": [
       "Count by Age_class"
      ],
      "text/plain": [
       "<IPython.core.display.Markdown object>"
      ]
     },
     "metadata": {},
     "output_type": "display_data"
    },
    {
     "name": "stdout",
     "output_type": "stream",
     "text": [
      "21-30    230\n",
      "31-40    155\n",
      "11-20    115\n",
      "41-50     86\n",
      "0-10      64\n",
      "51-60     42\n",
      "61-70     17\n",
      "71-80      5\n",
      "Name: Age_Class, dtype: int64\n",
      "\n"
     ]
    },
    {
     "data": {
      "text/plain": [
       "<matplotlib.text.Text at 0x145ba1d0>"
      ]
     },
     "execution_count": 236,
     "metadata": {},
     "output_type": "execute_result"
    },
    {
     "data": {
      "image/png": "[encoded data removed]",
      "text/plain": [
       "<matplotlib.figure.Figure at 0x1997c240>"
      ]
     },
     "metadata": {},
     "output_type": "display_data"
    }
   ],
   "source": [
    "# Creating another dataframe with records that have a valid age\n",
    "\n",
    "titanic_with_age_df = titanic_raw_df[titanic_raw_df.Age.notnull()]\n",
    "printmd('Common STATS for dataset restricted to passengers who have age value')\n",
    "print titanic_with_age_df.describe()\n",
    "#age_survival_group = titanic_with_age_df.groupby('Survived', as_index=False)\n",
    "\n",
    "\n",
    "#titanic_with_age_df['Age_Class'] = titanic_with_age_df['Age']\n",
    "titanic_with_age_df.loc[:,'Age_Class'] = titanic_with_age_df['Age']\n",
    "def age_class(x):\n",
    "    if x >= 0 and x <= 10:\n",
    "        return '0-10'\n",
    "    elif x > 10 and x <= 20:\n",
    "        return '11-20'\n",
    "    elif x > 20 and x <= 30:\n",
    "        return '21-30'\n",
    "    elif x > 30 and x <= 40:\n",
    "        return '31-40'\n",
    "    elif x > 40 and x <= 50:\n",
    "        return '41-50'\n",
    "    elif x > 50 and x <= 60:\n",
    "        return '51-60'\n",
    "    elif x > 60 and x <= 70:\n",
    "        return '61-70'\n",
    "    elif x > 70 and x <= 80:\n",
    "        return '71-80'\n",
    "    else:\n",
    "        return '>80'\n",
    "\n",
    "titanic_with_age_df.loc[:,'Age_Class'] = titanic_with_age_df['Age_Class'].apply(age_class)\n",
    "\n",
    "print\n",
    "printmd('Check Age_Class column')\n",
    "print titanic_with_age_df.head()\n",
    "print\n",
    "printmd('Count by Age_class')\n",
    "print titanic_with_age_df.Age_Class.value_counts()\n",
    "print\n",
    "\n",
    "# The parameters for pie chart\n",
    "fig = plt.figure(figsize=(8,8), dpi=1600) \n",
    "titanic_with_age_df.Age_Class.value_counts().plot(kind='pie',autopct='%1.1f%%')\n",
    "plt.title('Age_Class distribution')"
   ]
  },
  {
   "cell_type": "code",
   "execution_count": 239,
   "metadata": {
    "collapsed": false,
    "scrolled": false
   },
   "outputs": [
    {
     "data": {
      "text/markdown": [
       "STATS from dead and alive dataframe created above"
      ],
      "text/plain": [
       "<IPython.core.display.Markdown object>"
      ]
     },
     "metadata": {},
     "output_type": "display_data"
    },
    {
     "name": "stdout",
     "output_type": "stream",
     "text": [
      "14.1721098771\n",
      "\n",
      "PassengerId    250.845515\n",
      "Survived         0.000000\n",
      "Pclass           0.836617\n",
      "Age             14.950952\n",
      "SibSp            0.731132\n",
      "Parch            0.807147\n",
      "Fare            70.458776\n",
      "dtype: float64\n"
     ]
    },
    {
     "data": {
      "image/png": "[encoded data removed]",
      "text/plain": [
       "<matplotlib.figure.Figure at 0x1b15e320>"
      ]
     },
     "metadata": {},
     "output_type": "display_data"
    }
   ],
   "source": [
    "# prepare data for Age vs survival graph\n",
    "dead = titanic_with_age_df[titanic_with_age_df['Survived'] == 0]\n",
    "alive = titanic_with_age_df[titanic_with_age_df['Survived'] == 1]\n",
    "\n",
    "printmd('STATS from dead and alive dataframe created above')\n",
    "print dead['Age'].std()\n",
    "print\n",
    "print alive.std()\n",
    "\n",
    "# Graph parameters for Age vs Survival\n",
    "plt.figure(figsize=(18,6), dpi=1600)\n",
    "dead['Age'].hist(bins=30,color='r',label='Dead',alpha=0.5,range=(0,80))\n",
    "alive['Age'].hist(bins=30,color='g',label='Alive',alpha=0.5,range=(0,80))\n",
    "plt.legend()\n",
    "plt.title('Age vs Survival')\n",
    "plt.xlabel('Age')\n",
    "plt.ylabel('# of people')\n",
    "plt.show()\n"
   ]
  },
  {
   "cell_type": "code",
   "execution_count": 214,
   "metadata": {
    "collapsed": false,
    "scrolled": false
   },
   "outputs": [
    {
     "data": {
      "text/markdown": [
       "Count of passengers grouped by Survival and Sex"
      ],
      "text/plain": [
       "<IPython.core.display.Markdown object>"
      ]
     },
     "metadata": {},
     "output_type": "display_data"
    },
    {
     "name": "stdout",
     "output_type": "stream",
     "text": [
      "Survived  Sex   \n",
      "0         female     81\n",
      "          male      468\n",
      "1         female    233\n",
      "          male      109\n",
      "Name: PassengerId, dtype: int64\n",
      "\n"
     ]
    },
    {
     "data": {
      "image/png": "[encoded data removed]",
      "text/plain": [
       "<matplotlib.figure.Figure at 0x1a16bac8>"
      ]
     },
     "metadata": {},
     "output_type": "display_data"
    }
   ],
   "source": [
    "# Group passengers by survived and sex columns\n",
    "sex_group = titanic_raw_df.groupby(['Survived','Sex'])\n",
    "printmd('Count of passengers grouped by Survival and Sex')\n",
    "print sex_group['PassengerId'].count()\n",
    "print\n",
    "\n",
    "# Create stacked bar graph showing survival vs sex\n",
    "sex_group['PassengerId'].count().unstack().plot.bar(stacked=True)\n",
    "plt.figure\n",
    "plt.title('Sex vs Survival')\n",
    "plt.xlabel('Survival')\n",
    "plt.ylabel('# of people')\n",
    "plt.show()"
   ]
  },
  {
   "cell_type": "markdown",
   "metadata": {},
   "source": [
    "# Finding\n",
    "Above graph shows that more females survived compared to men.\n",
    "\n",
    "What is even more interesting in this analysis is that ~ only 34% of total passengers were Females.\n",
    "\n",
    "Approx 74% of the female passengers survived while approx 18.8% of the male passengers survived."
   ]
  },
  {
   "cell_type": "code",
   "execution_count": 217,
   "metadata": {
    "collapsed": false
   },
   "outputs": [
    {
     "name": "stdout",
     "output_type": "stream",
     "text": [
      "0-10      26\n",
      "11-20     71\n",
      "21-30    146\n",
      "31-40     86\n",
      "41-50     53\n",
      "51-60     25\n",
      "61-70     13\n",
      "71-80      4\n",
      "Name: Age_Class, dtype: int64\n"
     ]
    },
    {
     "data": {
      "text/plain": [
       "<matplotlib.text.Text at 0x1a215048>"
      ]
     },
     "execution_count": 217,
     "metadata": {},
     "output_type": "execute_result"
    },
    {
     "data": {
      "image/png": "[encoded data removed]",
      "text/plain": [
       "<matplotlib.figure.Figure at 0x1b43f160>"
      ]
     },
     "metadata": {},
     "output_type": "display_data"
    }
   ],
   "source": [
    "\n",
    "fig = plt.figure(figsize=(18,6), dpi=1600)\n",
    "print dead.Age_Class.value_counts().sort_index()\n",
    "dead.Age_Class.value_counts().sort_index().plot(label='Dead')\n",
    "alive.Age_Class.value_counts().sort_index().plot(label='Alive')\n",
    "plt.legend()\n",
    "plt.title('Age Class vs Survival')\n",
    "plt.xlabel('Age Class')\n",
    "plt.ylabel('# of Passengers')"
   ]
  },
  {
   "cell_type": "markdown",
   "metadata": {},
   "source": [
    "# Finding\n",
    "One interesting finding looking at the above graph is that in almost all age groups the people who died or more compared to who survived except for the 0-10 age group.\n",
    "\n",
    "Another interesting finding is that the gap between alive and dead numbers is highest in the age group 20-30."
   ]
  },
  {
   "cell_type": "code",
   "execution_count": 230,
   "metadata": {
    "collapsed": false
   },
   "outputs": [
    {
     "data": {
      "text/markdown": [
       "Ticket class and corresponding count of passengers"
      ],
      "text/plain": [
       "<IPython.core.display.Markdown object>"
      ]
     },
     "metadata": {},
     "output_type": "display_data"
    },
    {
     "name": "stdout",
     "output_type": "stream",
     "text": [
      "1    216\n",
      "2    184\n",
      "3    491\n",
      "Name: Pclass, dtype: int64\n",
      "\n",
      "Survived  Pclass\n",
      "0         1          80\n",
      "          2          97\n",
      "          3         372\n",
      "1         1         136\n",
      "          2          87\n",
      "          3         119\n",
      "Name: PassengerId, dtype: int64\n",
      "\n",
      "Pclass      1   2    3\n",
      "Survived              \n",
      "0          80  97  372\n",
      "1         136  87  119\n"
     ]
    },
    {
     "data": {
      "image/png": "[encoded data removed]",
      "text/plain": [
       "<matplotlib.figure.Figure at 0x1b4195c0>"
      ]
     },
     "metadata": {},
     "output_type": "display_data"
    }
   ],
   "source": [
    "# Count of passengers in each ticket class\n",
    "printmd('Ticket class and corresponding count of passengers')\n",
    "print titanic_raw_df.Pclass.value_counts().sort_index()\n",
    "print\n",
    "class_survival_group = titanic_raw_df.groupby(['Survived','Pclass'])\n",
    "print class_survival_group['PassengerId'].count()\n",
    "print\n",
    "print class_survival_group['PassengerId'].count().unstack()\n",
    "class_survival_group['PassengerId'].count().unstack().plot.barh(stacked=False)\n",
    "plt.figure\n",
    "#plt.legend('1 = survived')\n",
    "plt.title('Class vs Survival')\n",
    "plt.xlabel('# of people')\n",
    "plt.ylabel('Survival - \"1 = survived\"')\n",
    "plt.show()\n"
   ]
  },
  {
   "cell_type": "markdown",
   "metadata": {},
   "source": [
    "# Finding\n",
    "One interesting finding from the above graph is that of the first class passengers 62% of them survived while about 47% of the second class passengers survived and only 28% of the third class passengers survived.\n",
    "\n",
    "# Conclusion\n",
    "Best chances of survival were for first class passengers, females and for kids under 10.\n",
    "\n",
    "and Life has always been unfair to the poor."
   ]
  }
 ],
 "metadata": {
  "anaconda-cloud": {},
  "kernelspec": {
   "display_name": "Python [Root]",
   "language": "python",
   "name": "Python [Root]"
  },
  "language_info": {
   "codemirror_mode": {
    "name": "ipython",
    "version": 2
   },
   "file_extension": ".py",
   "mimetype": "text/x-python",
   "name": "python",
   "nbconvert_exporter": "python",
   "pygments_lexer": "ipython2",
   "version": "2.7.12"
  }
 },
 "nbformat": 4,
 "nbformat_minor": 0
}
